{
 "cells": [
  {
   "cell_type": "code",
   "execution_count": 14,
   "metadata": {},
   "outputs": [
    {
     "name": "stdout",
     "output_type": "stream",
     "text": [
      "단: 3\n",
      "구구단 3 단을 출력합니다.\n",
      "3 x 1 =  3\n",
      "3 x 2 =  6\n",
      "3 x 3 =  9\n",
      "3 x 4 =  12\n",
      "3 x 5 =  15\n",
      "3 x 6 =  18\n",
      "3 x 7 =  21\n",
      "3 x 8 =  24\n",
      "3 x 9 =  27\n"
     ]
    }
   ],
   "source": [
    "#구구단\n",
    "#input은 값을 str으로 받는다.\n",
    "\n",
    "import sys\n",
    "\n",
    "dan = input('단: ')\n",
    "if not dan.isdecimal():\n",
    "    print('숫자를 입력해주세요.')\n",
    "    sys.exit(\"Not a number\")\n",
    "    \n",
    "print(\"구구단\",dan,\"단을 출력합니다.\")\n",
    "for i in range(9):\n",
    "    print(dan, f\"x {i+1} = \", int(dan)*(i+1), end='\\n')"
   ]
  },
  {
   "cell_type": "code",
   "execution_count": 20,
   "metadata": {},
   "outputs": [
    {
     "name": "stdout",
     "output_type": "stream",
     "text": [
      "섭씨 값을 입력해주세요: 40\n",
      "화씨 값은 104.0 입니다.\n"
     ]
    }
   ],
   "source": [
    "#섭씨값을 받아서 화씨 온도로 출력하기\n",
    "c = input(\"섭씨 값을 입력해주세요: \")\n",
    "f = int(c) * 1.8 + 32\n",
    "print(f\"화씨 값은 {f} 입니다.\")"
   ]
  },
  {
   "cell_type": "code",
   "execution_count": 18,
   "metadata": {},
   "outputs": [
    {
     "data": {
      "text/plain": [
       "('012', '54')"
      ]
     },
     "execution_count": 18,
     "metadata": {},
     "output_type": "execute_result"
    }
   ],
   "source": [
    "#슬라이싱은 : 뒤의 인덱스는 포함하지 않는다\n",
    "a = \"01234\"\n",
    "b = \"54321\"\n",
    "\n",
    "a[:3], b[:-3]"
   ]
  },
  {
   "cell_type": "code",
   "execution_count": 32,
   "metadata": {},
   "outputs": [
    {
     "name": "stdout",
     "output_type": "stream",
     "text": [
      "# 처음에 글이 있고 중간에는       공백이 길고, 끝부분에는 공백이 짧아요 #\n",
      "['처음에 글이 있고 중간에는       ', '이 길고, 끝부분에는 ', '이 짧아요  ']\n",
      "고\n",
      "고\n"
     ]
    }
   ],
   "source": [
    "#문자열 핸들링 예제\n",
    "str = \"처음에 글이 있고 중간에는       공백이 길고, 끝부분에는 공백이 짧아요  \"\n",
    "\n",
    "#앞뒤 공백 제거\n",
    "str1 = str.strip()\n",
    "print(\"#\",str1,\"#\")\n",
    "\n",
    "#'공백'이라는 문자열로 분리\n",
    "str2 = str.split(\"공백\")\n",
    "print(str2)\n",
    "\n",
    "#분리된 결과의 인덱스가 1인 문자열의 인덱스가 3인 문자 출력\n",
    "print(str2[1][3])\n",
    "\n",
    "#한번에\n",
    "print(str.strip().split('공백')[1][3])"
   ]
  },
  {
   "cell_type": "code",
   "execution_count": 16,
   "metadata": {},
   "outputs": [
    {
     "name": "stdout",
     "output_type": "stream",
     "text": [
      "점수: 87\n",
      "학점: B+\n"
     ]
    }
   ],
   "source": [
    "#점수 입력하면 학점 출력\n",
    "score = input('점수: ')\n",
    "\n",
    "if not score.isdecimal():\n",
    "    print('숫자를 입력해주세요.')\n",
    "    sys.exit(\"Not a number\")\n",
    "\n",
    "score = int(score)\n",
    "    \n",
    "if score > 90:\n",
    "    grade = \"A\"\n",
    "elif score > 80:\n",
    "    grade = \"B\"\n",
    "else :\n",
    "    grade = \"C\"\n",
    "    \n",
    "if score%10 >= 7:\n",
    "    grade += \"+\"\n",
    "elif score%10 >= 4:\n",
    "    grade += \"0\"\n",
    "else:\n",
    "    grade += \"-\"\n",
    "    \n",
    "print(f\"학점: {grade}\")"
   ]
  },
  {
   "cell_type": "code",
   "execution_count": 21,
   "metadata": {},
   "outputs": [
    {
     "name": "stdout",
     "output_type": "stream",
     "text": [
      "10\n",
      "8\n",
      "6\n",
      "4\n",
      "2\n"
     ]
    }
   ],
   "source": [
    "for i in range(10, 0, -2):\n",
    "    print(i)"
   ]
  },
  {
   "cell_type": "code",
   "execution_count": null,
   "metadata": {},
   "outputs": [],
   "source": []
  }
 ],
 "metadata": {
  "kernelspec": {
   "display_name": "Python 3",
   "language": "python",
   "name": "python3"
  },
  "language_info": {
   "codemirror_mode": {
    "name": "ipython",
    "version": 3
   },
   "file_extension": ".py",
   "mimetype": "text/x-python",
   "name": "python",
   "nbconvert_exporter": "python",
   "pygments_lexer": "ipython3",
   "version": "3.6.10"
  }
 },
 "nbformat": 4,
 "nbformat_minor": 4
}
