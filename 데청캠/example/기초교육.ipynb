{
 "cells": [
  {
   "cell_type": "markdown",
   "metadata": {},
   "source": [
    "# 데청캠 기초교육"
   ]
  },
  {
   "cell_type": "code",
   "execution_count": 22,
   "metadata": {},
   "outputs": [
    {
     "name": "stdout",
     "output_type": "stream",
     "text": [
      "단: 2\n",
      "구구단 2 단을 출력합니다.\n",
      "2 x 1 =  2\n",
      "2 x 2 =  4\n",
      "2 x 3 =  6\n",
      "2 x 4 =  8\n",
      "2 x 5 =  10\n",
      "2 x 6 =  12\n",
      "2 x 7 =  14\n",
      "2 x 8 =  16\n",
      "2 x 9 =  18\n"
     ]
    }
   ],
   "source": [
    "#구구단\n",
    "#input은 값을 str으로 받는다.\n",
    "\n",
    "import sys\n",
    "\n",
    "dan = input('단: ')\n",
    "if not dan.isdecimal():\n",
    "    print('숫자를 입력해주세요.')\n",
    "    sys.exit(\"Not a number\")\n",
    "    \n",
    "print(\"구구단\",dan,\"단을 출력합니다.\")\n",
    "for i in range(1,10):\n",
    "    print(dan, f\"x {i} = \", int(dan)*i, end='\\n')"
   ]
  },
  {
   "cell_type": "code",
   "execution_count": 20,
   "metadata": {},
   "outputs": [
    {
     "name": "stdout",
     "output_type": "stream",
     "text": [
      "섭씨 값을 입력해주세요: 40\n",
      "화씨 값은 104.0 입니다.\n"
     ]
    }
   ],
   "source": [
    "#섭씨값을 받아서 화씨 온도로 출력하기\n",
    "c = input(\"섭씨 값을 입력해주세요: \")\n",
    "f = int(c) * 1.8 + 32\n",
    "print(f\"화씨 값은 {f} 입니다.\")"
   ]
  },
  {
   "cell_type": "code",
   "execution_count": 18,
   "metadata": {},
   "outputs": [
    {
     "data": {
      "text/plain": [
       "('012', '54')"
      ]
     },
     "execution_count": 18,
     "metadata": {},
     "output_type": "execute_result"
    }
   ],
   "source": [
    "#슬라이싱은 : 뒤의 인덱스는 포함하지 않는다\n",
    "a = \"01234\"\n",
    "b = \"54321\"\n",
    "\n",
    "a[:3], b[:-3]"
   ]
  },
  {
   "cell_type": "code",
   "execution_count": 32,
   "metadata": {},
   "outputs": [
    {
     "name": "stdout",
     "output_type": "stream",
     "text": [
      "# 처음에 글이 있고 중간에는       공백이 길고, 끝부분에는 공백이 짧아요 #\n",
      "['처음에 글이 있고 중간에는       ', '이 길고, 끝부분에는 ', '이 짧아요  ']\n",
      "고\n",
      "고\n"
     ]
    }
   ],
   "source": [
    "#문자열 핸들링 예제\n",
    "str = \"처음에 글이 있고 중간에는       공백이 길고, 끝부분에는 공백이 짧아요  \"\n",
    "\n",
    "#앞뒤 공백 제거\n",
    "str1 = str.strip()\n",
    "print(\"#\",str1,\"#\")\n",
    "\n",
    "#'공백'이라는 문자열로 분리\n",
    "str2 = str.split(\"공백\")\n",
    "print(str2)\n",
    "\n",
    "#분리된 결과의 인덱스가 1인 문자열의 인덱스가 3인 문자 출력\n",
    "print(str2[1][3])\n",
    "\n",
    "#한번에\n",
    "print(str.strip().split('공백')[1][3])"
   ]
  },
  {
   "cell_type": "code",
   "execution_count": 16,
   "metadata": {},
   "outputs": [
    {
     "name": "stdout",
     "output_type": "stream",
     "text": [
      "점수: 87\n",
      "학점: B+\n"
     ]
    }
   ],
   "source": [
    "#점수 입력하면 학점 출력\n",
    "score = input('점수: ')\n",
    "\n",
    "if not score.isdecimal():\n",
    "    print('숫자를 입력해주세요.')\n",
    "    sys.exit(\"Not a number\")\n",
    "\n",
    "score = int(score)\n",
    "    \n",
    "if score > 90:\n",
    "    grade = \"A\"\n",
    "elif score > 80:\n",
    "    grade = \"B\"\n",
    "else :\n",
    "    grade = \"C\"\n",
    "    \n",
    "if score%10 >= 7:\n",
    "    grade += \"+\"\n",
    "elif score%10 >= 4:\n",
    "    grade += \"0\"\n",
    "else:\n",
    "    grade += \"-\"\n",
    "    \n",
    "print(f\"학점: {grade}\")"
   ]
  },
  {
   "cell_type": "code",
   "execution_count": 21,
   "metadata": {},
   "outputs": [
    {
     "name": "stdout",
     "output_type": "stream",
     "text": [
      "10\n",
      "8\n",
      "6\n",
      "4\n",
      "2\n"
     ]
    }
   ],
   "source": [
    "for i in range(10, 0, -2):\n",
    "    print(i)"
   ]
  },
  {
   "cell_type": "code",
   "execution_count": 37,
   "metadata": {},
   "outputs": [
    {
     "name": "stdout",
     "output_type": "stream",
     "text": [
      "*\n",
      "**\n",
      "***\n",
      "****\n",
      "*****\n",
      "*\n",
      "***\n",
      "*****\n",
      "*******\n",
      "*********\n",
      "*****\n",
      "****\n",
      "***\n",
      "**\n",
      "*\n",
      "    *    \n",
      "   ***   \n",
      "  *****  \n",
      " ******* \n",
      "*********\n",
      "12345\n",
      " 1234\n",
      "  123\n",
      "   12\n",
      "    1\n",
      "123454321\n",
      " 1234321 \n",
      "  12321  \n",
      "   121   \n",
      "    1    \n"
     ]
    }
   ],
   "source": [
    "#별찍깈ㅋㅋㅋㅋ\n",
    "#1\n",
    "for i in range(1,6):\n",
    "    print(\"*\"*i)\n",
    "    \n",
    "#2\n",
    "for i in range(1,10,2):\n",
    "    print(\"*\"*i)\n",
    "    \n",
    "#3\n",
    "for i in range(5,0,-1):\n",
    "     print(\"*\"*i)\n",
    "        \n",
    "#4\n",
    "for i in range(1,10,2):\n",
    "    nsp = (9-i)//2\n",
    "    print(\" \"*nsp, end='')\n",
    "    print(\"*\"*i, end='')\n",
    "    print(\" \"*nsp)\n",
    "    \n",
    "#5\n",
    "for i in range(5, 0, -1):\n",
    "    nsp = 5-i\n",
    "    n = 1\n",
    "    print(' '*nsp,end='')\n",
    "    for j in range(1,i+1):\n",
    "        print(j,end='')\n",
    "    print('')\n",
    "    \n",
    "#6\n",
    "for i in range(5, 0, -1):\n",
    "    nsp = 5-i\n",
    "    n = 1\n",
    "    print(' '*nsp,end='')\n",
    "    for j in range(1,i+1):\n",
    "        print(j,end='')\n",
    "    for k in range(i-1,0,-1):\n",
    "        print(k,end='')\n",
    "    print(' '*nsp)\n"
   ]
  },
  {
   "cell_type": "code",
   "execution_count": 39,
   "metadata": {},
   "outputs": [
    {
     "name": "stdout",
     "output_type": "stream",
     "text": [
      "구구단 3 단을 출력합니다.\n",
      "3 x 1 =  3\n",
      "3 x 2 =  6\n",
      "3 x 3 =  9\n",
      "3 x 4 =  12\n",
      "3 x 5 =  15\n"
     ]
    }
   ],
   "source": [
    "#함수\n",
    "def printDan(dan, end):\n",
    "    if not str(dan).isdecimal():\n",
    "        print('숫자를 입력해주세요.')\n",
    "        sys.exit(\"Not a number\")\n",
    "\n",
    "    print(\"구구단\",dan,\"단을 출력합니다.\")\n",
    "    for i in range(1,end+1):\n",
    "        print(dan, f\"x {i} = \", int(dan)*i, end='\\n')\n",
    "        \n",
    "printDan(3,5)"
   ]
  },
  {
   "cell_type": "code",
   "execution_count": 43,
   "metadata": {},
   "outputs": [
    {
     "name": "stdout",
     "output_type": "stream",
     "text": [
      "sum: 405\n",
      "mean: 81.0\n"
     ]
    }
   ],
   "source": [
    "#리스트 활용, 사칙연산\n",
    "score = [100,65,70,80,90]\n",
    "#sc_sum = sum(score)\n",
    "sc_sum = 0\n",
    "for sc in score:\n",
    "    sc_sum += sc\n",
    "\n",
    "sc_mean = sc_sum/len(score)\n",
    "\n",
    "print(f'sum: {sc_sum}\\nmean: {sc_mean}')"
   ]
  },
  {
   "cell_type": "code",
   "execution_count": 45,
   "metadata": {},
   "outputs": [
    {
     "name": "stdout",
     "output_type": "stream",
     "text": [
      "점수: 99\n",
      "점수: 56\n",
      "점수: 78\n",
      "점수: 45\n",
      "점수: 67\n",
      "sum: 345\n",
      "mean: 69.0\n"
     ]
    }
   ],
   "source": [
    "#리스트 활용, 사칙연산\n",
    "score = []\n",
    "i = 0\n",
    "while i < 5:\n",
    "    sc = int(input('점수: '))\n",
    "    score.append(sc)\n",
    "    i+=1\n",
    "\n",
    "sc_sum = sum(score)\n",
    "sc_mean = sc_sum/len(score)\n",
    "\n",
    "print(f'sum: {sc_sum}\\nmean: {sc_mean}')"
   ]
  },
  {
   "cell_type": "code",
   "execution_count": 48,
   "metadata": {},
   "outputs": [
    {
     "name": "stdout",
     "output_type": "stream",
     "text": [
      "최종점수: 77.5\n"
     ]
    }
   ],
   "source": [
    "#리스트 활용, 사칙연산\n",
    "weight = [0.1, 0.3, 0.2, 0.2, 0.2]\n",
    "score = [100, 65, 70, 80, 90]\n",
    "fin_sc = 0\n",
    "\n",
    "for i in range(len(score)):\n",
    "    fin_sc += weight[i]*score[i]\n",
    "    \n",
    "print('최종점수:',fin_sc)"
   ]
  },
  {
   "cell_type": "code",
   "execution_count": 53,
   "metadata": {},
   "outputs": [
    {
     "name": "stdout",
     "output_type": "stream",
     "text": [
      "[3, 5, 7, 11, 13]\n"
     ]
    }
   ],
   "source": [
    "#반복문 3번\n",
    "def pn(n,m):\n",
    "    ls = []\n",
    "    while len(ls) < m:\n",
    "        sc = 0\n",
    "        for i in range(2,n+1):\n",
    "            if n%i == 0:\n",
    "                sc+= 1\n",
    "        if sc == 1:\n",
    "            ls.append(n)\n",
    "        n+=1\n",
    "    print(ls)\n",
    "    \n",
    "pn(3,5)"
   ]
  },
  {
   "cell_type": "code",
   "execution_count": 56,
   "metadata": {},
   "outputs": [
    {
     "name": "stdout",
     "output_type": "stream",
     "text": [
      "Num?: 50\n",
      "Down\n",
      "Num?: 40\n",
      "Down\n",
      "Num?: 30\n",
      "Down\n",
      "Num?: 20\n",
      "Up\n",
      "Num?: 25\n",
      "Down\n",
      "Num?: 24\n",
      "Congrat!\n"
     ]
    }
   ],
   "source": [
    "from random import randint\n",
    "\n",
    "num_rand = randint(0,99)\n",
    "while True:\n",
    "    num = int(input('Num?: '))\n",
    "    if num > num_rand:\n",
    "        print('Down')\n",
    "    elif num < num_rand:\n",
    "        print('Up')\n",
    "    else:\n",
    "        print('Congrat!')\n",
    "        break"
   ]
  },
  {
   "cell_type": "code",
   "execution_count": 57,
   "metadata": {},
   "outputs": [
    {
     "name": "stdout",
     "output_type": "stream",
     "text": [
      "rcp?:가위\n",
      "rcp?:바위\n",
      "rcp?:봅\n",
      "입력값이 잘못된듯 함\n",
      "rcp?:보\n",
      "rcp?:가위\n",
      "['승', '무', '승', '패']\n"
     ]
    }
   ],
   "source": [
    "#가위바위보\n",
    "def rcp(num_game):\n",
    "    wl = []\n",
    "    for i in range(num_game):\n",
    "        num_rand = randint(-1,1)\n",
    "        num_user = input('rcp?:')\n",
    "        if num_user == '가위':\n",
    "            num_user = 1\n",
    "        elif num_user == '바위':\n",
    "            num_user = 0\n",
    "        elif num_user == '보':\n",
    "            num_user = -1\n",
    "        \n",
    "        try:\n",
    "            if num_rand + num_user == 0:\n",
    "                wl.append(\"무\")\n",
    "            elif num_rand + num_user == 1:\n",
    "                wl.append(\"패\")\n",
    "            elif num_rand + num_user == -1:\n",
    "                wl.append(\"승\")\n",
    "            elif num_rand + num_user == 2:\n",
    "                wl.append(\"승\")\n",
    "            elif num_rand + num_user == -2:\n",
    "                wl.append(\"패\")\n",
    "        except:\n",
    "            print('입력값이 잘못된듯 함')\n",
    "            continue\n",
    "    print(wl)\n",
    "    \n",
    "rcp(5)\n"
   ]
  },
  {
   "cell_type": "code",
   "execution_count": null,
   "metadata": {},
   "outputs": [],
   "source": [
    "#숫자야구\n",
    "#컴퓨터의 답 생성\n",
    "def cr_ans():\n",
    "    dup = []\n",
    "    ans = ''\n",
    "    len = 4\n",
    "    while True:\n",
    "        num = randint(0,9)\n",
    "        if num not in dup:\n",
    "            ans += num\n",
    "            dup.append(num)\n",
    "        if len(dup) == 4:\n",
    "            break\n",
    "    return(ans)\n",
    "            \n",
    "#사용자가 시도\n",
    "def user_try():\n",
    "    while True:\n",
    "        guess = input('guess?:')\n",
    "        if len(guess) != 4:\n",
    "            print('4자리 숫자를 입력해주세요')\n",
    "            continue\n",
    "        dup = guess.split()\n",
    "        i = 0\n",
    "        for num in dup:\n",
    "            if dup.count(num) >= 2:\n",
    "                print('dup!!')\n",
    "            else:\n",
    "                i = 1\n",
    "        if i == 1:\n",
    "            break\n",
    "    return(guess)\n",
    "                \n",
    "#사용자 시도를 평가함\n",
    "def st_ba(guess, ans):\n",
    "    st = 0\n",
    "    ba = 0\n",
    "    for i, num in enumerate(guess):\n",
    "        if guess[i] == ans[i]:\n",
    "            st += 1\n",
    "        if num in ans:\n",
    "            ba += 1\n",
    "    print(f'st: {st}\\nba: {ba}')    "
   ]
  },
  {
   "cell_type": "markdown",
   "metadata": {},
   "source": [
    "# 크롤러"
   ]
  },
  {
   "cell_type": "code",
   "execution_count": 5,
   "metadata": {},
   "outputs": [],
   "source": [
    "import requests\n",
    "raw = requests.get('http://kidd.co.kr/')\n",
    "\n",
    "from bs4 import BeautifulSoup as bs\n",
    "html = bs(raw.content, 'html.parser', from_encoding='utf-8')\n",
    "body = html.select(\".label.ko\")\n",
    "\n",
    "for b in body:\n",
    "    print(b)"
   ]
  },
  {
   "cell_type": "code",
   "execution_count": null,
   "metadata": {},
   "outputs": [],
   "source": []
  }
 ],
 "metadata": {
  "kernelspec": {
   "display_name": "Python 3",
   "language": "python",
   "name": "python3"
  },
  "language_info": {
   "codemirror_mode": {
    "name": "ipython",
    "version": 3
   },
   "file_extension": ".py",
   "mimetype": "text/x-python",
   "name": "python",
   "nbconvert_exporter": "python",
   "pygments_lexer": "ipython3",
   "version": "3.6.10"
  }
 },
 "nbformat": 4,
 "nbformat_minor": 4
}
