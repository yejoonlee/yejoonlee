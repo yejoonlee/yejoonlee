{
 "cells": [
  {
   "cell_type": "code",
   "execution_count": 1,
   "metadata": {},
   "outputs": [
    {
     "name": "stderr",
     "output_type": "stream",
     "text": [
      "/anaconda3/lib/python3.6/site-packages/sklearn/externals/joblib/__init__.py:15: FutureWarning: sklearn.externals.joblib is deprecated in 0.21 and will be removed in 0.23. Please import this functionality directly from joblib, which can be installed with: pip install joblib. If this warning is raised when loading pickled models, you may need to re-serialize those models with scikit-learn 0.21+.\n",
      "  warnings.warn(msg, category=FutureWarning)\n"
     ]
    }
   ],
   "source": [
    "# Import the modules\n",
    "import cv2\n",
    "from sklearn.externals import joblib\n",
    "from skimage.feature import hog\n",
    "import numpy as np\n",
    "from matplotlib import pyplot as plt"
   ]
  },
  {
   "cell_type": "code",
   "execution_count": 2,
   "metadata": {},
   "outputs": [],
   "source": [
    "# Read the input image \n",
    "# im = cv2.imread(\"./num_ext_test.png\")\n",
    "# im = cv2.imread(\"./ext_test2.png\")\n",
    "im = cv2.imread(\"./123.png\")\n",
    "# im = cv2.imread(\"./table4.png\")\n",
    "# im = cv2.imread(\"./val_img.png\")\n",
    "\n",
    "# Convert to grayscale and apply Gaussian filtering\n",
    "im_gray = cv2.cvtColor(im, cv2.COLOR_BGR2GRAY)\n",
    " \n",
    "im_gray = cv2.GaussianBlur(im_gray, (5, 5), 0)\n",
    "\n",
    "# kernel = np.ones((2,1),np.uint8)\n",
    "# im_gray = cv2.dilate(im_gray, kernel, 1)"
   ]
  },
  {
   "cell_type": "code",
   "execution_count": 3,
   "metadata": {},
   "outputs": [
    {
     "name": "stdout",
     "output_type": "stream",
     "text": [
      "4\n"
     ]
    }
   ],
   "source": [
    "# Threshold the image\n",
    "ret, im_th = cv2.threshold(im_gray, 200, 255, cv2.THRESH_BINARY_INV)\n",
    "# ret, im_th = cv2.threshold(im_gray, 128, 255, cv2.THRESH_BINARY |cv2.THRESH_OTSU)\n",
    " \n",
    "im_gray = 255 - im_gray\n",
    "# Find contours in the image\n",
    "ctrs_hier = cv2.findContours(im_th.copy(), cv2.RETR_EXTERNAL, cv2.CHAIN_APPROX_SIMPLE)\n",
    " \n",
    "print(len(ctrs_hier[1]))\n",
    "\n",
    "# for i in range(len(ctrs_hier[1])):\n",
    "#     x0, y0 = zip(*np.squeeze(ctrs_hier[1][i]))\n",
    "#     plt.plot(x0, y0, c=\"b\")\n",
    "#     plt.show()\n",
    "    \n",
    "# x0, y0 = zip(*np.squeeze(ctrs_hier[1][0]))\n",
    "# plt.plot(x0, y0, c=\"b\")\n",
    "# plt.show()\n",
    "\n",
    "# for i in ctrs_hier:\n",
    "#     print(i)\n",
    "\n",
    "# Get rectangles contains each contour\n",
    "rects = [cv2.boundingRect(ctr) for ctr in ctrs_hier[1]]"
   ]
  },
  {
   "cell_type": "code",
   "execution_count": null,
   "metadata": {},
   "outputs": [],
   "source": [
    "# For each rectangular region\n",
    "for rect in rects:\n",
    "    # Draw the rectangles\n",
    "    cv2.rectangle(im, (rect[0], rect[1]), (rect[0] + rect[2], rect[1] + rect[3]), (0, 255, 0), 1) \n",
    " \n",
    "    # Make the rectangular region around the digit\n",
    "    leng = int(rect[3] * 1.6)\n",
    "    pt1 = int(rect[1] + rect[3] // 2 - leng // 2)\n",
    "    pt2 = int(rect[0] + rect[2] // 2 - leng // 2)\n",
    "    roi = im_th[pt1:pt1+leng, pt2:pt2+leng]\n",
    "    if roi.size <= 0:\n",
    "        continue\n",
    " \n",
    "    # Resize the image\n",
    "    roi = cv2.resize(roi, (28, 28), interpolation=cv2.INTER_AREA)\n",
    "    roi = cv2.dilate(roi, (3, 3))\n",
    " \n",
    "cv2.imshow(\"Resulting Image with Rectangular ROIs\", im)\n",
    "cv2.waitKey()"
   ]
  },
  {
   "cell_type": "code",
   "execution_count": null,
   "metadata": {},
   "outputs": [],
   "source": [
    "print(rects[0][0:4])"
   ]
  },
  {
   "cell_type": "code",
   "execution_count": null,
   "metadata": {},
   "outputs": [],
   "source": [
    "for i, rect in enumerate(rects):\n",
    "    # Make the rectangular region around the digit\n",
    "    leng = int(rect[3] * 1.6)\n",
    "    pt1 = int(rect[1] + rect[3] // 2 - leng // 2)\n",
    "    pt2 = int(rect[0] + rect[2] // 2 - leng // 2)\n",
    "    roi = im_th[pt1:pt1+leng, pt2:pt2+leng]\n",
    "    if roi.size <= 0:\n",
    "        continue\n",
    "    x, y, width, height = rect\n",
    "    \n",
    "    crop_img = im[y:y+height, x:x+width] \n",
    "#     cv2.imshow(\"cropped\", crop_img)\n",
    "    cv2.imwrite('./new/%d_3.png'%i, crop_img)\n",
    "\n",
    " \n",
    "    # Resize the image\n",
    "    roi = cv2.resize(roi, (28, 28), interpolation=cv2.INTER_AREA)\n",
    "    roi = cv2.dilate(roi, (3, 3))"
   ]
  },
  {
   "cell_type": "code",
   "execution_count": null,
   "metadata": {},
   "outputs": [],
   "source": [
    "x, y, w, h = cv2.boundingRect(ctrs_hier[1][0])\n",
    "x, y, w, h"
   ]
  },
  {
   "cell_type": "code",
   "execution_count": null,
   "metadata": {},
   "outputs": [],
   "source": [
    "plt.plot(x0, y0, c=\"b\")\n",
    "plt.plot(\n",
    "    [x, x + w, x + w, x, x], \n",
    "    [y, y, y + h, y + h, y],\n",
    "    c=\"r\"\n",
    ")\n",
    "plt.show()"
   ]
  },
  {
   "cell_type": "code",
   "execution_count": null,
   "metadata": {},
   "outputs": [],
   "source": [
    "# # Import the modules\n",
    "# import cv2\n",
    "# from sklearn.externals import joblib\n",
    "# from skimage.feature import hog\n",
    "# import numpy as np\n",
    " \n",
    "# # Read the input image \n",
    "# im = cv2.imread(\".\\\\123.png\")\n",
    " \n",
    "# # Convert to grayscale and apply Gaussian filtering\n",
    "# im_gray = cv2.cvtColor(im, cv2.COLOR_BGR2GRAY)\n",
    " \n",
    "# im_gray = cv2.GaussianBlur(im_gray, (5, 5), 0)\n",
    " \n",
    "# # Threshold the image\n",
    "# ret, im_th = cv2.threshold(im_gray, 90, 255, cv2.THRESH_BINARY_INV)\n",
    " \n",
    "# # Find contours in the image\n",
    "# ctrs, hier = cv2.findContours(im_th.copy(), cv2.RETR_EXTERNAL, cv2.CHAIN_APPROX_SIMPLE)\n",
    " \n",
    "# # Get rectangles contains each contour\n",
    "# rects = [cv2.boundingRect(ctr) for ctr in ctrs]\n",
    " \n",
    "# # For each rectangular region\n",
    "# for rect in rects:\n",
    "#     # Draw the rectangles\n",
    "#     cv2.rectangle(im, (rect[0], rect[1]), (rect[0] + rect[2], rect[1] + rect[3]), (0, 255, 0), 3) \n",
    " \n",
    "#     # Make the rectangular region around the digit\n",
    "#     leng = int(rect[3] * 1.6)\n",
    "#     pt1 = int(rect[1] + rect[3] // 2 - leng // 2)\n",
    "#     pt2 = int(rect[0] + rect[2] // 2 - leng // 2)\n",
    "#     roi = im_th[pt1:pt1+leng, pt2:pt2+leng]\n",
    "#     if roi.size <= 0:\n",
    "#         continue\n",
    " \n",
    "#     # Resize the image\n",
    "#     roi = cv2.resize(roi, (28, 28), interpolation=cv2.INTER_AREA)\n",
    "#     roi = cv2.dilate(roi, (3, 3))\n",
    " \n",
    "# cv2.imshow(\"Resulting Image with Rectangular ROIs\", im)\n",
    "# cv2.waitKey()"
   ]
  },
  {
   "cell_type": "code",
   "execution_count": null,
   "metadata": {},
   "outputs": [],
   "source": []
  }
 ],
 "metadata": {
  "kernelspec": {
   "display_name": "Python 3",
   "language": "python",
   "name": "python3"
  },
  "language_info": {
   "codemirror_mode": {
    "name": "ipython",
    "version": 3
   },
   "file_extension": ".py",
   "mimetype": "text/x-python",
   "name": "python",
   "nbconvert_exporter": "python",
   "pygments_lexer": "ipython3",
   "version": "3.6.10"
  }
 },
 "nbformat": 4,
 "nbformat_minor": 4
}
